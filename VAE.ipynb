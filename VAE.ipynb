{
  "nbformat": 4,
  "nbformat_minor": 0,
  "metadata": {
    "colab": {
      "provenance": [],
      "gpuType": "T4"
    },
    "kernelspec": {
      "name": "python3",
      "display_name": "Python 3"
    },
    "language_info": {
      "name": "python"
    },
    "accelerator": "GPU"
  },
  "cells": [
    {
      "cell_type": "code",
      "execution_count": 1,
      "metadata": {
        "id": "RnIGO-74ppBw"
      },
      "outputs": [],
      "source": [
        "import torch\n",
        "import torch.nn as nn\n",
        "import torch.nn.functional as F\n",
        "import torch.optim as optim\n",
        "\n",
        "from torchvision import datasets, transforms\n",
        "from torchvision.utils import save_image"
      ]
    },
    {
      "cell_type": "code",
      "source": [
        "batch_size = 100"
      ],
      "metadata": {
        "id": "7SY3xCxL9Kjx"
      },
      "execution_count": 2,
      "outputs": []
    },
    {
      "cell_type": "code",
      "source": [
        "# MNIST Dataset\n",
        "train_dataset = datasets.MNIST(root=\"./mnist_data/\", train=True, transform=transforms.ToTensor(), download=True)\n",
        "test_dataset = datasets.MNIST(root=\"./mnist_data/\", train=False, transform=transforms.ToTensor(), download=False)\n",
        "\n",
        "# Data loader\n",
        "train_loader = torch.utils.data.DataLoader(dataset=train_dataset, batch_size = batch_size, shuffle=True)\n",
        "test_loader = torch.utils.data.DataLoader(dataset=test_dataset, batch_size = batch_size, shuffle=False)"
      ],
      "metadata": {
        "id": "gtSPnest-y9L"
      },
      "execution_count": 3,
      "outputs": []
    },
    {
      "cell_type": "code",
      "source": [
        "class VAE(nn.Module):\n",
        "    def __init__(self, x_dim, h_dim1, h_dim2, z_dim):\n",
        "        super(VAE, self).__init__()\n",
        "\n",
        "        ######## Encoder part ########\n",
        "        # 1st hidden layer\n",
        "        self.fc1 = nn.Sequential(\n",
        "            nn.Linear(x_dim, h_dim1),\n",
        "            nn.ReLU(),\n",
        "            nn.Dropout(p=0.2)\n",
        "        )\n",
        "\n",
        "        # 2nd hidden layer\n",
        "        self.fc2 = nn.Sequential(\n",
        "            nn.Linear(h_dim1, h_dim2),\n",
        "            nn.ReLU(),\n",
        "            nn.Dropout(p=0.2)\n",
        "        )\n",
        "\n",
        "        # mu layer\n",
        "        self.fc_mu = nn.Linear(h_dim2, z_dim)\n",
        "\n",
        "        # log_var layer\n",
        "        self.fc_logvar = nn.Linear(h_dim2, z_dim)\n",
        "        ##############################\n",
        "\n",
        "        ######## Decoder part ########\n",
        "        # 1st hidden layer\n",
        "        self.fc4 = nn.Sequential(\n",
        "            nn.Linear(z_dim, h_dim2),\n",
        "            nn.ReLU(),\n",
        "            nn.Dropout(p=0.2)\n",
        "        )\n",
        "\n",
        "        # 2nd hidden layer\n",
        "        self.fc5 = nn.Sequential(\n",
        "            nn.Linear(h_dim2, h_dim1),\n",
        "            nn.ReLU(),\n",
        "            nn.Dropout(p=0.2)\n",
        "        )\n",
        "\n",
        "        # output layer\n",
        "        self.fc_x = nn.Linear(h_dim1, x_dim)\n",
        "        ##############################\n",
        "\n",
        "    def encoder(self, x):\n",
        "        h1 = self.fc1(x)\n",
        "        h2 = self.fc2(h1)\n",
        "        mu = self.fc_mu(h2)\n",
        "        log_var = self.fc_logvar(h2)\n",
        "\n",
        "        return mu, log_var\n",
        "\n",
        "    def sampling(self, mu, log_var):\n",
        "        std = torch.exp(log_var / 2)\n",
        "        epsilon = torch.randn_like(std)\n",
        "\n",
        "        return mu + epsilon * std\n",
        "\n",
        "    def decoder(self, z):\n",
        "        h1 = self.fc4(z)\n",
        "        h2 = self.fc5(h1)\n",
        "        x = F.sigmoid(self.fc_x(h2))\n",
        "\n",
        "        return x\n",
        "\n",
        "    def forward(self, x):\n",
        "        mu, log_var = self.encoder(x.view(-1, 784))\n",
        "        z = self.sampling(mu, log_var)\n",
        "\n",
        "        return self.decoder(z), mu, log_var\n"
      ],
      "metadata": {
        "id": "gxMZfQOVqB-V"
      },
      "execution_count": 4,
      "outputs": []
    },
    {
      "cell_type": "code",
      "source": [
        "vae = VAE(x_dim=784, h_dim1=512, h_dim2=256, z_dim=2)\n",
        "if torch.cuda.is_available():\n",
        "    vae.cuda()"
      ],
      "metadata": {
        "id": "xi91388-g-eR"
      },
      "execution_count": 5,
      "outputs": []
    },
    {
      "cell_type": "code",
      "source": [
        "vae"
      ],
      "metadata": {
        "colab": {
          "base_uri": "https://localhost:8080/"
        },
        "id": "U0MFCrsuiL6O",
        "outputId": "7941272a-5abe-4a3c-8b3c-feaed631293f"
      },
      "execution_count": 6,
      "outputs": [
        {
          "output_type": "execute_result",
          "data": {
            "text/plain": [
              "VAE(\n",
              "  (fc1): Sequential(\n",
              "    (0): Linear(in_features=784, out_features=512, bias=True)\n",
              "    (1): ReLU()\n",
              "    (2): Dropout(p=0.2, inplace=False)\n",
              "  )\n",
              "  (fc2): Sequential(\n",
              "    (0): Linear(in_features=512, out_features=256, bias=True)\n",
              "    (1): ReLU()\n",
              "    (2): Dropout(p=0.2, inplace=False)\n",
              "  )\n",
              "  (fc_mu): Linear(in_features=256, out_features=2, bias=True)\n",
              "  (fc_logvar): Linear(in_features=256, out_features=2, bias=True)\n",
              "  (fc4): Sequential(\n",
              "    (0): Linear(in_features=2, out_features=256, bias=True)\n",
              "    (1): ReLU()\n",
              "    (2): Dropout(p=0.2, inplace=False)\n",
              "  )\n",
              "  (fc5): Sequential(\n",
              "    (0): Linear(in_features=256, out_features=512, bias=True)\n",
              "    (1): ReLU()\n",
              "    (2): Dropout(p=0.2, inplace=False)\n",
              "  )\n",
              "  (fc_x): Linear(in_features=512, out_features=784, bias=True)\n",
              ")"
            ]
          },
          "metadata": {},
          "execution_count": 6
        }
      ]
    },
    {
      "cell_type": "code",
      "source": [
        "optimizer = optim.Adam(vae.parameters())\n",
        "\n",
        "# return reconstruction error + Regularization\n",
        "def loss_function(recon_x, x, mu, log_var):\n",
        "    BCE = F.binary_cross_entropy(recon_x, x.view(-1, 784), reduction='sum')\n",
        "    KLD = 0.5 * torch.sum(mu.pow(2) + log_var.exp() - log_var - 1)\n",
        "\n",
        "    # print(f\"bce: {BCE}, KLD: {KLD}\")\n",
        "\n",
        "    return BCE + KLD"
      ],
      "metadata": {
        "id": "wOLBQnhficzS"
      },
      "execution_count": 7,
      "outputs": []
    },
    {
      "cell_type": "code",
      "source": [
        "def train(epoch):\n",
        "    vae.train()\n",
        "    train_loss = 0\n",
        "\n",
        "    for batch_idx, (data, _) in enumerate(train_loader):\n",
        "        data = data.cuda()\n",
        "        optimizer.zero_grad()\n",
        "\n",
        "        recon_batch, mu, log_var = vae(data)\n",
        "        loss = loss_function(recon_batch, data, mu, log_var)\n",
        "\n",
        "        loss.backward()\n",
        "        train_loss += loss.item()\n",
        "\n",
        "        optimizer.step()\n",
        "\n",
        "        if batch_idx % 100 == 0:\n",
        "            print(f'Train epoch: {epoch} [{batch_idx * len(data)}/{len(train_loader.dataset)} ({100. * batch_idx / len(train_loader):.0f}%)]\\tLoss: {loss.item() / len(data):.6f}')\n",
        "\n",
        "    print(f'====> Epoch: {epoch} Average loss: {train_loss/len(train_loader.dataset):.4f}')"
      ],
      "metadata": {
        "id": "JRdEVM8dL-e5"
      },
      "execution_count": 8,
      "outputs": []
    },
    {
      "cell_type": "code",
      "source": [
        "def test():\n",
        "    vae.eval()\n",
        "\n",
        "    test_loss = 0\n",
        "    with torch.no_grad():\n",
        "        for data, _ in test_loader:\n",
        "            data = data.cuda()\n",
        "            recon, mu, log_var = vae(data)\n",
        "\n",
        "            test_loss += loss_function(recon, data, mu, log_var).item()\n",
        "\n",
        "    test_loss /= len(test_loader.dataset)\n",
        "    print(f'====> Test set loss: {test_loss:.4f}')"
      ],
      "metadata": {
        "id": "4Z63GUeNN5YA"
      },
      "execution_count": 9,
      "outputs": []
    },
    {
      "cell_type": "code",
      "source": [
        "for epoch in range(1, 11):\n",
        "    train(epoch)\n",
        "    test()"
      ],
      "metadata": {
        "colab": {
          "base_uri": "https://localhost:8080/"
        },
        "id": "S-Jw4tkIOcg-",
        "outputId": "3171cd40-f343-426a-f817-48dcd1426219"
      },
      "execution_count": 10,
      "outputs": [
        {
          "output_type": "stream",
          "name": "stdout",
          "text": [
            "Train epoch: 1 [0/60000 (0%)]\tLoss: 546.009727\n",
            "Train epoch: 1 [10000/60000 (17%)]\tLoss: 194.175449\n",
            "Train epoch: 1 [20000/60000 (33%)]\tLoss: 172.435996\n",
            "Train epoch: 1 [30000/60000 (50%)]\tLoss: 181.033418\n",
            "Train epoch: 1 [40000/60000 (67%)]\tLoss: 159.418389\n",
            "Train epoch: 1 [50000/60000 (83%)]\tLoss: 167.639316\n",
            "====> Epoch: 1 Average loss: 182.7763\n",
            "====> Test set loss: 162.7065\n",
            "Train epoch: 2 [0/60000 (0%)]\tLoss: 153.340527\n",
            "Train epoch: 2 [10000/60000 (17%)]\tLoss: 164.138809\n",
            "Train epoch: 2 [20000/60000 (33%)]\tLoss: 171.285937\n",
            "Train epoch: 2 [30000/60000 (50%)]\tLoss: 167.745527\n",
            "Train epoch: 2 [40000/60000 (67%)]\tLoss: 158.734561\n",
            "Train epoch: 2 [50000/60000 (83%)]\tLoss: 161.955127\n",
            "====> Epoch: 2 Average loss: 162.0559\n",
            "====> Test set loss: 155.6091\n",
            "Train epoch: 3 [0/60000 (0%)]\tLoss: 161.311533\n",
            "Train epoch: 3 [10000/60000 (17%)]\tLoss: 152.201113\n",
            "Train epoch: 3 [20000/60000 (33%)]\tLoss: 157.991299\n",
            "Train epoch: 3 [30000/60000 (50%)]\tLoss: 152.160293\n",
            "Train epoch: 3 [40000/60000 (67%)]\tLoss: 156.646807\n",
            "Train epoch: 3 [50000/60000 (83%)]\tLoss: 155.827666\n",
            "====> Epoch: 3 Average loss: 157.9876\n",
            "====> Test set loss: 153.1017\n",
            "Train epoch: 4 [0/60000 (0%)]\tLoss: 157.265137\n",
            "Train epoch: 4 [10000/60000 (17%)]\tLoss: 158.348174\n",
            "Train epoch: 4 [20000/60000 (33%)]\tLoss: 157.281367\n",
            "Train epoch: 4 [30000/60000 (50%)]\tLoss: 155.588828\n",
            "Train epoch: 4 [40000/60000 (67%)]\tLoss: 157.387129\n",
            "Train epoch: 4 [50000/60000 (83%)]\tLoss: 160.906221\n",
            "====> Epoch: 4 Average loss: 155.6004\n",
            "====> Test set loss: 150.8649\n",
            "Train epoch: 5 [0/60000 (0%)]\tLoss: 152.141406\n",
            "Train epoch: 5 [10000/60000 (17%)]\tLoss: 147.688613\n",
            "Train epoch: 5 [20000/60000 (33%)]\tLoss: 150.902539\n",
            "Train epoch: 5 [30000/60000 (50%)]\tLoss: 151.153223\n",
            "Train epoch: 5 [40000/60000 (67%)]\tLoss: 149.226826\n",
            "Train epoch: 5 [50000/60000 (83%)]\tLoss: 153.885879\n",
            "====> Epoch: 5 Average loss: 154.1844\n",
            "====> Test set loss: 149.7357\n",
            "Train epoch: 6 [0/60000 (0%)]\tLoss: 154.613564\n",
            "Train epoch: 6 [10000/60000 (17%)]\tLoss: 148.470801\n",
            "Train epoch: 6 [20000/60000 (33%)]\tLoss: 162.013789\n",
            "Train epoch: 6 [30000/60000 (50%)]\tLoss: 156.408027\n",
            "Train epoch: 6 [40000/60000 (67%)]\tLoss: 153.440576\n",
            "Train epoch: 6 [50000/60000 (83%)]\tLoss: 158.670078\n",
            "====> Epoch: 6 Average loss: 153.1701\n",
            "====> Test set loss: 148.7511\n",
            "Train epoch: 7 [0/60000 (0%)]\tLoss: 155.952725\n",
            "Train epoch: 7 [10000/60000 (17%)]\tLoss: 149.294473\n",
            "Train epoch: 7 [20000/60000 (33%)]\tLoss: 155.648730\n",
            "Train epoch: 7 [30000/60000 (50%)]\tLoss: 151.543115\n",
            "Train epoch: 7 [40000/60000 (67%)]\tLoss: 153.716680\n",
            "Train epoch: 7 [50000/60000 (83%)]\tLoss: 151.050176\n",
            "====> Epoch: 7 Average loss: 152.1949\n",
            "====> Test set loss: 147.8547\n",
            "Train epoch: 8 [0/60000 (0%)]\tLoss: 150.504258\n",
            "Train epoch: 8 [10000/60000 (17%)]\tLoss: 155.230693\n",
            "Train epoch: 8 [20000/60000 (33%)]\tLoss: 144.971533\n",
            "Train epoch: 8 [30000/60000 (50%)]\tLoss: 158.761250\n",
            "Train epoch: 8 [40000/60000 (67%)]\tLoss: 144.952764\n",
            "Train epoch: 8 [50000/60000 (83%)]\tLoss: 143.380205\n",
            "====> Epoch: 8 Average loss: 151.5787\n",
            "====> Test set loss: 147.2744\n",
            "Train epoch: 9 [0/60000 (0%)]\tLoss: 148.658965\n",
            "Train epoch: 9 [10000/60000 (17%)]\tLoss: 144.392568\n",
            "Train epoch: 9 [20000/60000 (33%)]\tLoss: 149.715605\n",
            "Train epoch: 9 [30000/60000 (50%)]\tLoss: 151.698447\n",
            "Train epoch: 9 [40000/60000 (67%)]\tLoss: 148.663604\n",
            "Train epoch: 9 [50000/60000 (83%)]\tLoss: 148.986885\n",
            "====> Epoch: 9 Average loss: 151.0440\n",
            "====> Test set loss: 147.0563\n",
            "Train epoch: 10 [0/60000 (0%)]\tLoss: 149.997305\n",
            "Train epoch: 10 [10000/60000 (17%)]\tLoss: 146.737285\n",
            "Train epoch: 10 [20000/60000 (33%)]\tLoss: 152.960645\n",
            "Train epoch: 10 [30000/60000 (50%)]\tLoss: 147.862646\n",
            "Train epoch: 10 [40000/60000 (67%)]\tLoss: 141.512832\n",
            "Train epoch: 10 [50000/60000 (83%)]\tLoss: 148.072520\n",
            "====> Epoch: 10 Average loss: 150.6178\n",
            "====> Test set loss: 146.6997\n"
          ]
        }
      ]
    },
    {
      "cell_type": "code",
      "source": [
        "with torch.no_grad():\n",
        "    z = torch.randn(64, 2).cuda()\n",
        "    sample = vae.decoder(z).cuda()\n",
        "\n",
        "    save_image(sample.view(64, 1, 28, 28), './samples/sample_' + '.png')"
      ],
      "metadata": {
        "id": "ci7amyarS7KJ"
      },
      "execution_count": 11,
      "outputs": []
    }
  ]
}