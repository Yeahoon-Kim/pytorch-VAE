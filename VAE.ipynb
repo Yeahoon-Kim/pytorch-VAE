{
  "nbformat": 4,
  "nbformat_minor": 0,
  "metadata": {
    "colab": {
      "provenance": [],
      "gpuType": "T4"
    },
    "kernelspec": {
      "name": "python3",
      "display_name": "Python 3"
    },
    "language_info": {
      "name": "python"
    },
    "accelerator": "GPU"
  },
  "cells": [
    {
      "cell_type": "code",
      "execution_count": 1,
      "metadata": {
        "id": "RnIGO-74ppBw"
      },
      "outputs": [],
      "source": [
        "import torch\n",
        "import torch.nn as nn\n",
        "import torch.nn.functional as F\n",
        "import torch.optim as optim\n",
        "\n",
        "from torchvision import datasets, transforms\n",
        "from torchvision.utils import save_image"
      ]
    },
    {
      "cell_type": "code",
      "source": [
        "batch_size = 100"
      ],
      "metadata": {
        "id": "7SY3xCxL9Kjx"
      },
      "execution_count": 2,
      "outputs": []
    },
    {
      "cell_type": "code",
      "source": [
        "# MNIST Dataset\n",
        "train_dataset = datasets.MNIST(root=\"./mnist_data/\", train=True, transform=transforms.ToTensor(), download=True)\n",
        "test_dataset = datasets.MNIST(root=\"./mnist_data/\", train=False, transform=transforms.ToTensor(), download=False)\n",
        "\n",
        "# Data loader\n",
        "train_loader = torch.utils.data.DataLoader(dataset=train_dataset, batch_size = batch_size, shuffle=True)\n",
        "test_loader = torch.utils.data.DataLoader(dataset=test_dataset, batch_size = batch_size, shuffle=False)"
      ],
      "metadata": {
        "id": "gtSPnest-y9L"
      },
      "execution_count": 3,
      "outputs": []
    },
    {
      "cell_type": "code",
      "source": [
        "class VAE(nn.Module):\n",
        "    def __init__(self, x_dim, h_dim1, h_dim2, z_dim):\n",
        "        super(VAE, self).__init__()\n",
        "\n",
        "        ######## Encoder part ########\n",
        "        # common hidden layer\n",
        "        self.fc_common_encode = nn.Sequential(\n",
        "            nn.Linear(x_dim, h_dim1),\n",
        "            nn.ReLU(),\n",
        "            nn.Dropout(p=0.2),\n",
        "\n",
        "            nn.Linear(h_dim1, h_dim2),\n",
        "            nn.ReLU(),\n",
        "            nn.Dropout(p=0.2)\n",
        "        )\n",
        "\n",
        "        # mu layer\n",
        "        self.fc_mu = nn.Linear(h_dim2, z_dim)\n",
        "\n",
        "        # log_var layer\n",
        "        self.fc_logvar = nn.Linear(h_dim2, z_dim)\n",
        "        ##############################\n",
        "\n",
        "        ######## Decoder part ########\n",
        "        # 1st hidden layer\n",
        "        self.fc_decode = nn.Sequential(\n",
        "            nn.Linear(z_dim, h_dim2),\n",
        "            nn.ReLU(),\n",
        "            nn.Dropout(p=0.2),\n",
        "\n",
        "            nn.Linear(h_dim2, h_dim1),\n",
        "            nn.ReLU(),\n",
        "            nn.Dropout(p=0.2),\n",
        "\n",
        "            nn.Linear(h_dim1, x_dim)\n",
        "        )\n",
        "        ##############################\n",
        "\n",
        "    def encoder(self, x):\n",
        "        h = self.fc_common_encode(x)\n",
        "        mu = self.fc_mu(h)\n",
        "        log_var = self.fc_logvar(h)\n",
        "\n",
        "        return mu, log_var\n",
        "\n",
        "    def sampling(self, mu, log_var):\n",
        "        std = torch.exp(log_var / 2)\n",
        "        epsilon = torch.randn_like(std)\n",
        "\n",
        "        return mu + epsilon * std\n",
        "\n",
        "    def decoder(self, z):\n",
        "        x = F.sigmoid(self.fc_decode(z))\n",
        "        return x\n",
        "\n",
        "    def forward(self, x):\n",
        "        mu, log_var = self.encoder(x.view(-1, 784))\n",
        "        z = self.sampling(mu, log_var)\n",
        "\n",
        "        return self.decoder(z), mu, log_var\n"
      ],
      "metadata": {
        "id": "gxMZfQOVqB-V"
      },
      "execution_count": 4,
      "outputs": []
    },
    {
      "cell_type": "code",
      "source": [
        "vae = VAE(x_dim=784, h_dim1=512, h_dim2=256, z_dim=2)\n",
        "if torch.cuda.is_available():\n",
        "    vae.cuda()"
      ],
      "metadata": {
        "id": "xi91388-g-eR"
      },
      "execution_count": 5,
      "outputs": []
    },
    {
      "cell_type": "code",
      "source": [
        "vae"
      ],
      "metadata": {
        "colab": {
          "base_uri": "https://localhost:8080/"
        },
        "id": "U0MFCrsuiL6O",
        "outputId": "120134f6-430d-439f-aabf-61d348131633"
      },
      "execution_count": 6,
      "outputs": [
        {
          "output_type": "execute_result",
          "data": {
            "text/plain": [
              "VAE(\n",
              "  (fc_common_encode): Sequential(\n",
              "    (0): Linear(in_features=784, out_features=512, bias=True)\n",
              "    (1): ReLU()\n",
              "    (2): Dropout(p=0.2, inplace=False)\n",
              "    (3): Linear(in_features=512, out_features=256, bias=True)\n",
              "    (4): ReLU()\n",
              "    (5): Dropout(p=0.2, inplace=False)\n",
              "  )\n",
              "  (fc_mu): Linear(in_features=256, out_features=2, bias=True)\n",
              "  (fc_logvar): Linear(in_features=256, out_features=2, bias=True)\n",
              "  (fc_decode): Sequential(\n",
              "    (0): Linear(in_features=2, out_features=256, bias=True)\n",
              "    (1): ReLU()\n",
              "    (2): Dropout(p=0.2, inplace=False)\n",
              "    (3): Linear(in_features=256, out_features=512, bias=True)\n",
              "    (4): ReLU()\n",
              "    (5): Dropout(p=0.2, inplace=False)\n",
              "    (6): Linear(in_features=512, out_features=784, bias=True)\n",
              "  )\n",
              ")"
            ]
          },
          "metadata": {},
          "execution_count": 6
        }
      ]
    },
    {
      "cell_type": "code",
      "source": [
        "optimizer = optim.Adam(vae.parameters())\n",
        "\n",
        "# return reconstruction error + Regularization\n",
        "def loss_function(recon_x, x, mu, log_var):\n",
        "    BCE = F.binary_cross_entropy(recon_x, x.view(-1, 784), reduction='sum')\n",
        "    KLD = 0.5 * torch.sum(mu.pow(2) + log_var.exp() - log_var - 1)\n",
        "\n",
        "    # print(f\"bce: {BCE}, KLD: {KLD}\")\n",
        "\n",
        "    return BCE + KLD"
      ],
      "metadata": {
        "id": "wOLBQnhficzS"
      },
      "execution_count": 7,
      "outputs": []
    },
    {
      "cell_type": "code",
      "source": [
        "def train(epoch):\n",
        "    vae.train()\n",
        "    train_loss = 0\n",
        "\n",
        "    for batch_idx, (data, _) in enumerate(train_loader):\n",
        "        data = data.cuda()\n",
        "        optimizer.zero_grad()\n",
        "\n",
        "        recon_batch, mu, log_var = vae(data)\n",
        "        loss = loss_function(recon_batch, data, mu, log_var)\n",
        "\n",
        "        loss.backward()\n",
        "        train_loss += loss.item()\n",
        "\n",
        "        optimizer.step()\n",
        "\n",
        "        if batch_idx % 100 == 0:\n",
        "            print(f'Train epoch: {epoch} [{batch_idx * len(data)}/{len(train_loader.dataset)} ({100. * batch_idx / len(train_loader):.0f}%)]\\tLoss: {loss.item() / len(data):.6f}')\n",
        "\n",
        "    print(f'====> Epoch: {epoch} Average loss: {train_loss/len(train_loader.dataset):.4f}')"
      ],
      "metadata": {
        "id": "JRdEVM8dL-e5"
      },
      "execution_count": 8,
      "outputs": []
    },
    {
      "cell_type": "code",
      "source": [
        "def test():\n",
        "    vae.eval()\n",
        "\n",
        "    test_loss = 0\n",
        "    with torch.no_grad():\n",
        "        for data, _ in test_loader:\n",
        "            data = data.cuda()\n",
        "            recon, mu, log_var = vae(data)\n",
        "\n",
        "            test_loss += loss_function(recon, data, mu, log_var).item()\n",
        "\n",
        "    test_loss /= len(test_loader.dataset)\n",
        "    print(f'====> Test set loss: {test_loss:.4f}')"
      ],
      "metadata": {
        "id": "4Z63GUeNN5YA"
      },
      "execution_count": 9,
      "outputs": []
    },
    {
      "cell_type": "code",
      "source": [
        "for epoch in range(1, 11):\n",
        "    train(epoch)\n",
        "    test()"
      ],
      "metadata": {
        "colab": {
          "base_uri": "https://localhost:8080/"
        },
        "id": "S-Jw4tkIOcg-",
        "outputId": "3f9ba0c6-cb96-43e1-e67b-e250dce3e002"
      },
      "execution_count": 10,
      "outputs": [
        {
          "output_type": "stream",
          "name": "stdout",
          "text": [
            "Train epoch: 1 [0/60000 (0%)]\tLoss: 546.006172\n",
            "Train epoch: 1 [10000/60000 (17%)]\tLoss: 194.714590\n",
            "Train epoch: 1 [20000/60000 (33%)]\tLoss: 173.537871\n",
            "Train epoch: 1 [30000/60000 (50%)]\tLoss: 178.276094\n",
            "Train epoch: 1 [40000/60000 (67%)]\tLoss: 166.352891\n",
            "Train epoch: 1 [50000/60000 (83%)]\tLoss: 168.311855\n",
            "====> Epoch: 1 Average loss: 182.6296\n",
            "====> Test set loss: 161.6622\n",
            "Train epoch: 2 [0/60000 (0%)]\tLoss: 162.587744\n",
            "Train epoch: 2 [10000/60000 (17%)]\tLoss: 165.567539\n",
            "Train epoch: 2 [20000/60000 (33%)]\tLoss: 154.001084\n",
            "Train epoch: 2 [30000/60000 (50%)]\tLoss: 154.884473\n",
            "Train epoch: 2 [40000/60000 (67%)]\tLoss: 149.089121\n",
            "Train epoch: 2 [50000/60000 (83%)]\tLoss: 167.031465\n",
            "====> Epoch: 2 Average loss: 161.5395\n",
            "====> Test set loss: 155.5901\n",
            "Train epoch: 3 [0/60000 (0%)]\tLoss: 159.076807\n",
            "Train epoch: 3 [10000/60000 (17%)]\tLoss: 155.021641\n",
            "Train epoch: 3 [20000/60000 (33%)]\tLoss: 154.307744\n",
            "Train epoch: 3 [30000/60000 (50%)]\tLoss: 151.800234\n",
            "Train epoch: 3 [40000/60000 (67%)]\tLoss: 160.043115\n",
            "Train epoch: 3 [50000/60000 (83%)]\tLoss: 158.512783\n",
            "====> Epoch: 3 Average loss: 157.6137\n",
            "====> Test set loss: 152.2084\n",
            "Train epoch: 4 [0/60000 (0%)]\tLoss: 158.343076\n",
            "Train epoch: 4 [10000/60000 (17%)]\tLoss: 152.685771\n",
            "Train epoch: 4 [20000/60000 (33%)]\tLoss: 159.348926\n",
            "Train epoch: 4 [30000/60000 (50%)]\tLoss: 154.540781\n",
            "Train epoch: 4 [40000/60000 (67%)]\tLoss: 151.754180\n",
            "Train epoch: 4 [50000/60000 (83%)]\tLoss: 150.643447\n",
            "====> Epoch: 4 Average loss: 155.4216\n",
            "====> Test set loss: 150.8219\n",
            "Train epoch: 5 [0/60000 (0%)]\tLoss: 151.353340\n",
            "Train epoch: 5 [10000/60000 (17%)]\tLoss: 151.589697\n",
            "Train epoch: 5 [20000/60000 (33%)]\tLoss: 152.958926\n",
            "Train epoch: 5 [30000/60000 (50%)]\tLoss: 160.830508\n",
            "Train epoch: 5 [40000/60000 (67%)]\tLoss: 157.423047\n",
            "Train epoch: 5 [50000/60000 (83%)]\tLoss: 163.744814\n",
            "====> Epoch: 5 Average loss: 154.1186\n",
            "====> Test set loss: 149.3907\n",
            "Train epoch: 6 [0/60000 (0%)]\tLoss: 148.904697\n",
            "Train epoch: 6 [10000/60000 (17%)]\tLoss: 154.182578\n",
            "Train epoch: 6 [20000/60000 (33%)]\tLoss: 152.484629\n",
            "Train epoch: 6 [30000/60000 (50%)]\tLoss: 149.168730\n",
            "Train epoch: 6 [40000/60000 (67%)]\tLoss: 145.403164\n",
            "Train epoch: 6 [50000/60000 (83%)]\tLoss: 168.492578\n",
            "====> Epoch: 6 Average loss: 152.9872\n",
            "====> Test set loss: 148.3604\n",
            "Train epoch: 7 [0/60000 (0%)]\tLoss: 151.172461\n",
            "Train epoch: 7 [10000/60000 (17%)]\tLoss: 149.655332\n",
            "Train epoch: 7 [20000/60000 (33%)]\tLoss: 160.936982\n",
            "Train epoch: 7 [30000/60000 (50%)]\tLoss: 153.703213\n",
            "Train epoch: 7 [40000/60000 (67%)]\tLoss: 151.457334\n",
            "Train epoch: 7 [50000/60000 (83%)]\tLoss: 155.658291\n",
            "====> Epoch: 7 Average loss: 152.3307\n",
            "====> Test set loss: 148.0765\n",
            "Train epoch: 8 [0/60000 (0%)]\tLoss: 158.819482\n",
            "Train epoch: 8 [10000/60000 (17%)]\tLoss: 151.638691\n",
            "Train epoch: 8 [20000/60000 (33%)]\tLoss: 151.668291\n",
            "Train epoch: 8 [30000/60000 (50%)]\tLoss: 149.353887\n",
            "Train epoch: 8 [40000/60000 (67%)]\tLoss: 153.317549\n",
            "Train epoch: 8 [50000/60000 (83%)]\tLoss: 148.529180\n",
            "====> Epoch: 8 Average loss: 151.5152\n",
            "====> Test set loss: 146.7893\n",
            "Train epoch: 9 [0/60000 (0%)]\tLoss: 151.320303\n",
            "Train epoch: 9 [10000/60000 (17%)]\tLoss: 165.016230\n",
            "Train epoch: 9 [20000/60000 (33%)]\tLoss: 148.778828\n",
            "Train epoch: 9 [30000/60000 (50%)]\tLoss: 159.314795\n",
            "Train epoch: 9 [40000/60000 (67%)]\tLoss: 150.863330\n",
            "Train epoch: 9 [50000/60000 (83%)]\tLoss: 157.149775\n",
            "====> Epoch: 9 Average loss: 151.0439\n",
            "====> Test set loss: 147.0630\n",
            "Train epoch: 10 [0/60000 (0%)]\tLoss: 142.665166\n",
            "Train epoch: 10 [10000/60000 (17%)]\tLoss: 151.391836\n",
            "Train epoch: 10 [20000/60000 (33%)]\tLoss: 141.395977\n",
            "Train epoch: 10 [30000/60000 (50%)]\tLoss: 153.702061\n",
            "Train epoch: 10 [40000/60000 (67%)]\tLoss: 153.568818\n",
            "Train epoch: 10 [50000/60000 (83%)]\tLoss: 140.901367\n",
            "====> Epoch: 10 Average loss: 150.5965\n",
            "====> Test set loss: 146.3986\n"
          ]
        }
      ]
    },
    {
      "cell_type": "code",
      "source": [
        "with torch.no_grad():\n",
        "    z = torch.randn(64, 2).cuda()\n",
        "    sample = vae.decoder(z).cuda()\n",
        "\n",
        "    save_image(sample.view(64, 1, 28, 28), './samples/sample_' + '.png')"
      ],
      "metadata": {
        "id": "ci7amyarS7KJ"
      },
      "execution_count": 11,
      "outputs": []
    }
  ]
}